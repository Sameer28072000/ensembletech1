{
 "cells": [
  {
   "cell_type": "markdown",
   "id": "5e08f897-a50b-4457-a97b-44791bf5b04d",
   "metadata": {},
   "source": [
    "Q1. What is an ensemble technique in machine learning?"
   ]
  },
  {
   "cell_type": "code",
   "execution_count": null,
   "id": "0d8bca5d-e639-4660-8a44-06ef76808f8e",
   "metadata": {},
   "outputs": [],
   "source": [
    "Ans:-It is nothing but combining multiple model like logistic regression decision tree,naive bayes,svm,svc etc.\n",
    "         combining multiple model -----> train----->prediction---->aggregate"
   ]
  },
  {
   "cell_type": "markdown",
   "id": "197b1c98-38db-40ca-a9af-145e292d96d1",
   "metadata": {},
   "source": [
    "Q2. Why are ensemble techniques used in machine learning?"
   ]
  },
  {
   "cell_type": "code",
   "execution_count": null,
   "id": "69fc724b-8546-4166-9e70-e0b7c3d72873",
   "metadata": {},
   "outputs": [],
   "source": [
    "Ans:-To get the better accuracy.\n",
    "      i.improved performance\n",
    "       ii.Robust to outliers\n",
    "        iii.Flexibility\n",
    "          iv.handling complex relationship"
   ]
  },
  {
   "cell_type": "markdown",
   "id": "2a91cd03-4ec5-4bb4-acb9-83a282b5b262",
   "metadata": {},
   "source": [
    "Q3. What is bagging?"
   ]
  },
  {
   "cell_type": "code",
   "execution_count": null,
   "id": "a6f3ab90-ef36-4a85-b8ca-27e18925aacf",
   "metadata": {},
   "outputs": [],
   "source": [
    "Ans:-we used random forest classifier & regreesor in bagging.we build the tree in depth.\n",
    "      we build the tree in parallelly."
   ]
  },
  {
   "cell_type": "markdown",
   "id": "65af798a-0e21-4d7a-a527-3cba2e839a23",
   "metadata": {},
   "source": [
    "Q4. What is boosting?"
   ]
  },
  {
   "cell_type": "code",
   "execution_count": null,
   "id": "49608878-2ce5-4f75-a5f7-4fe541bd613f",
   "metadata": {},
   "outputs": [],
   "source": [
    "Ans:-we used gradient boosting,AdaBoosting,XgBoost.\n",
    "      we build the tree in sequentially."
   ]
  },
  {
   "cell_type": "markdown",
   "id": "8e54778a-129e-46bc-b4e1-5dcede65391c",
   "metadata": {},
   "source": [
    "Q5. What are the benefits of using ensemble techniques?"
   ]
  },
  {
   "cell_type": "code",
   "execution_count": null,
   "id": "311111b9-dbc2-4879-8772-d98f6b5fc60a",
   "metadata": {},
   "outputs": [],
   "source": [
    "Ans:-\n",
    "     i.Improved accuracy\n",
    "      ii.reduce overfitting\n",
    "        iii.Increased stability\n",
    "         iv.Scalability\n"
   ]
  },
  {
   "cell_type": "markdown",
   "id": "dac7d6f6-1f9b-4f8e-a7fa-39b6436dfc24",
   "metadata": {},
   "source": [
    "Q6. Are ensemble techniques always better than individual models?"
   ]
  },
  {
   "cell_type": "code",
   "execution_count": null,
   "id": "d9f37dc9-18b6-4e25-b396-0f48e421878a",
   "metadata": {},
   "outputs": [],
   "source": [
    "Ans:-No,ensemble techniques are not always better than individual models.\n",
    "      ensemble technique improved performance compared to the individual model."
   ]
  },
  {
   "cell_type": "markdown",
   "id": "71daac4c-d840-45d4-9bd3-7ab62fd40880",
   "metadata": {},
   "source": [
    "Q7. How is the confidence interval calculated using bootstrap?"
   ]
  },
  {
   "cell_type": "code",
   "execution_count": null,
   "id": "c970ee76-e611-4352-9420-21b91c8d0a59",
   "metadata": {},
   "outputs": [],
   "source": [
    "Ans:-\n",
    "      i.bootstrap sampling\n",
    "       ii.estimate statistics----->mean,mode,median,std.deviation\n",
    "         iii.Bootstrap distribution\n",
    "            iv.confidence interval------->lower & upper bound,alpha value=0.05 by default\n",
    "              v.Report the confidence interval"
   ]
  },
  {
   "cell_type": "markdown",
   "id": "1af08978-6279-49fc-a5c7-234b7e5a5ebe",
   "metadata": {},
   "source": [
    "Q8. How does bootstrap work and What are the steps involved in bootstrap?"
   ]
  },
  {
   "cell_type": "code",
   "execution_count": null,
   "id": "dc197b7e-329d-4620-98a2-6d5c18986016",
   "metadata": {},
   "outputs": [],
   "source": [
    "Ans:-bootstrap is resampling technique to estimate sampling distribution of statistics.\n",
    "      i.Data sample \n",
    "       ii.Sampling with replacement\n",
    "        iii.statistics\n",
    "          iv.Bootstrap distribution \n",
    "            v.confidence interval"
   ]
  },
  {
   "cell_type": "markdown",
   "id": "158dd4ad-59a3-425a-823a-20c29895911b",
   "metadata": {},
   "source": [
    "Q9. A researcher wants to estimate the mean height of a population of trees. They measure the height of a\n",
    "sample of 50 trees and obtain a mean height of 15 meters and a standard deviation of 2 meters. Use\n",
    "bootstrap to estimate the 95% confidence interval for the population mean height."
   ]
  },
  {
   "cell_type": "code",
   "execution_count": null,
   "id": "b9b2ee71-ad31-426f-950c-3e349fcfc427",
   "metadata": {},
   "outputs": [],
   "source": [
    "Ans:- sample height=50,mean height=15m,std.deviation=2m,C.I=\n",
    "     \n",
    "        i.Data sample \n",
    "          ii.Sampling with replacement\n",
    "            iii.statistics\n",
    "              iv.Bootstrap distribution \n",
    "                v.confidence interval"
   ]
  },
  {
   "cell_type": "code",
   "execution_count": null,
   "id": "27ab823a-5823-4199-af75-0bff9317cdf4",
   "metadata": {},
   "outputs": [],
   "source": []
  }
 ],
 "metadata": {
  "kernelspec": {
   "display_name": "Python 3 (ipykernel)",
   "language": "python",
   "name": "python3"
  },
  "language_info": {
   "codemirror_mode": {
    "name": "ipython",
    "version": 3
   },
   "file_extension": ".py",
   "mimetype": "text/x-python",
   "name": "python",
   "nbconvert_exporter": "python",
   "pygments_lexer": "ipython3",
   "version": "3.10.8"
  }
 },
 "nbformat": 4,
 "nbformat_minor": 5
}
